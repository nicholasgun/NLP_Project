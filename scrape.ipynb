{
 "cells": [
  {
   "cell_type": "code",
   "execution_count": 1,
   "metadata": {},
   "outputs": [],
   "source": [
    "import time\n",
    "from selenium import webdriver\n",
    "from bs4 import BeautifulSoup\n",
    "import pandas as pd\n",
    "from selenium.webdriver.support.ui import WebDriverWait\n",
    "from selenium.webdriver.common.by import By\n",
    "from selenium.webdriver.support import expected_conditions as EC"
   ]
  },
  {
   "cell_type": "code",
   "execution_count": 2,
   "metadata": {},
   "outputs": [],
   "source": [
    "product_link = 'https://www.tokopedia.com/stationeryfo/pensil-mekanik-warna-pilot-color-eno-0-7mm-soft-blue'"
   ]
  },
  {
   "cell_type": "markdown",
   "metadata": {},
   "source": [
    "## Open Product Page"
   ]
  },
  {
   "cell_type": "code",
   "execution_count": 3,
   "metadata": {},
   "outputs": [],
   "source": [
    "driver = webdriver.Chrome()\n",
    "driver.get(product_link)\n"
   ]
  },
  {
   "cell_type": "code",
   "execution_count": 4,
   "metadata": {},
   "outputs": [],
   "source": [
    "time.sleep(5)\n",
    "soup = BeautifulSoup(driver.page_source, 'html.parser')"
   ]
  },
  {
   "cell_type": "markdown",
   "metadata": {},
   "source": [
    "## Open Product's View Reviews Page"
   ]
  },
  {
   "cell_type": "code",
   "execution_count": 5,
   "metadata": {},
   "outputs": [
    {
     "name": "stdout",
     "output_type": "stream",
     "text": [
      "[<a class=\"all-review css-1wt74j6-unf-link e1u528jj0\" data-testid=\"btnViewAllFeedback\" data-unify=\"Link\" font-size=\"14\" href=\"/stationeryfo/pensil-mekanik-warna-pilot-color-eno-0-7mm-soft-blue/review\">Lihat Semua Ulasan</a>]\n"
     ]
    }
   ],
   "source": [
    "all_review = soup.find_all('a', attrs={'data-testid' : 'btnViewAllFeedback'})\n",
    "print(all_review)"
   ]
  },
  {
   "cell_type": "code",
   "execution_count": 6,
   "metadata": {},
   "outputs": [],
   "source": [
    "link_all_review = all_review[0]['href']\n",
    "link_all_review = 'https://www.tokopedia.com' + link_all_review"
   ]
  },
  {
   "cell_type": "code",
   "execution_count": 7,
   "metadata": {},
   "outputs": [],
   "source": [
    "driver.get(link_all_review)\n",
    "time.sleep(5)\n",
    "soup = BeautifulSoup(driver.page_source, 'html.parser')"
   ]
  },
  {
   "cell_type": "code",
   "execution_count": 8,
   "metadata": {},
   "outputs": [],
   "source": [
    "reviews = []"
   ]
  },
  {
   "cell_type": "markdown",
   "metadata": {},
   "source": [
    "## Get Num Of Pages"
   ]
  },
  {
   "cell_type": "code",
   "execution_count": 9,
   "metadata": {},
   "outputs": [],
   "source": [
    "total_pages = soup.find_all('button', attrs={'class' : 'css-bugrro-unf-pagination-item'})\n",
    "num_page = 0\n",
    "\n",
    "for page in total_pages :\n",
    "    if not page.text.isdigit() :\n",
    "        continue\n",
    "\n",
    "    if int(page.text) > num_page :\n",
    "        num_page = int(page.text)"
   ]
  },
  {
   "cell_type": "code",
   "execution_count": 10,
   "metadata": {},
   "outputs": [
    {
     "name": "stdout",
     "output_type": "stream",
     "text": [
      "total pages : 7\n"
     ]
    }
   ],
   "source": [
    "print(f'total pages : {num_page}')"
   ]
  },
  {
   "cell_type": "markdown",
   "metadata": {},
   "source": [
    "## Get the Reviews"
   ]
  },
  {
   "cell_type": "code",
   "execution_count": 11,
   "metadata": {},
   "outputs": [
    {
     "data": {
      "text/plain": [
       "50"
      ]
     },
     "execution_count": 11,
     "metadata": {},
     "output_type": "execute_result"
    }
   ],
   "source": [
    "toped_reviews = soup.find_all('article', attrs={'class' : 'css-72zbc4'})\n",
    "len(toped_reviews)"
   ]
  },
  {
   "cell_type": "code",
   "execution_count": 12,
   "metadata": {},
   "outputs": [
    {
     "name": "stdout",
     "output_type": "stream",
     "text": [
      "No more next page\n"
     ]
    }
   ],
   "source": [
    "for i in range (0, num_page-1):\n",
    "    toped_reviews = soup.find_all('article', attrs={'class' : 'css-72zbc4'})\n",
    "    for review in toped_reviews:\n",
    "        # blank review checking\n",
    "        if review.find('span', attrs={'data-testid' : 'lblItemUlasan'}) is not None : \n",
    "            text_review = review.find('span', attrs={'data-testid' : 'lblItemUlasan'}).text\n",
    "            reviews.append(text_review)\n",
    "    time.sleep(3)\n",
    "    # click next page  \n",
    "    try :\n",
    "        driver.find_element(By.CSS_SELECTOR, 'button[aria-label=\"Laman berikutnya\"]').click()\n",
    "    except :\n",
    "        print('No more next page')\n",
    "        break\n",
    "    time.sleep(3)"
   ]
  },
  {
   "cell_type": "code",
   "execution_count": 15,
   "metadata": {},
   "outputs": [
    {
     "name": "stdout",
     "output_type": "stream",
     "text": [
      "Jumlah review : 141\n"
     ]
    }
   ],
   "source": [
    "print(f'Jumlah review : {len(reviews)}')"
   ]
  },
  {
   "cell_type": "code",
   "execution_count": 16,
   "metadata": {},
   "outputs": [
    {
     "name": "stdout",
     "output_type": "stream",
     "text": [
      "order banyak, 20+ jenis item, seller lgsg proses kirim cepat sekali, ada varian item kosong konfirmasi via chat dulu sblm dikirim. Terima kasih ya\n",
      "Respon Seller Oke\n",
      "Produk Oke\n",
      "Harga Produk Oke\n",
      "Pengiriman Oke\n",
      "Next kalo perlu lagi bisa jadi langganan\n",
      "nyaman dipakai utk menggambar 👍 bisa ditumpuki warna yg lebih gelap\n",
      "respon cepat pengiriman cepat packing baik aman sampai tujuan sesuai dengan yg dipesan terima kasih\n",
      "mantap semuanya, terima kasih kak\n",
      "kualitas barang baik, packaging sangat aman dan rapi, keseluruhan barang sangat baik\n",
      "bagus, enak banget buat nulis\n",
      "mau beli lagi lahhh 😅😅\n",
      "barang bagus, sesuai deskripsi\n",
      "Barang oke, packing aman, respon cepat. 🔥\n",
      "pelayanan memuaskan, barang bagus\n",
      "terima kasih Yaa Gan\n",
      "barang ori bagus..\n",
      "• packing cepet + seller nya confirm dulu sebelum kirim ❤️\n",
      "• pdhl beda provinsi, tapi 1hari sampai!\n",
      "• barang aman dan utuh\n",
      "• harga okkk\n",
      "Thank you ya, seller!\n",
      "Fix langgana... \n",
      "Kualitas barang bagus, packing aman..\n",
      "terimakasih seller dan toped, anak saya suka\n",
      "udah langganan bagus pkoknya\n",
      "pesanan terkirim tepat waktu\n",
      "pakenya di kemas aman sekali pakai kardus dan bubble wrap, di prosesnya cepet bangett, penjualnya juga ramah\n",
      "Kualitas CS luar biasa! Seller selalu chat konfirmasi item pesanan sebelum melakukan kiriman. Hari libur tetap bisa dikirim instan, dan pemrosesan pesanan kurang dari 15... \n",
      "Biar bintang yang bicara.\n",
      "Mantap, seller sangat komunikatif dan melakukan konfirmasi item-item pemesanan sebelum barang dikirim. Pengemasan rapi dan barang datang dalam kondisi bagus. Makasih!\n",
      "terimakasih layanan bagus\n",
      "warna nya cantik, sesuai deskripsi 😊👍🏻\n",
      "Barang cepet sampai dan sesuai dengan gambar, toko fast respon, terimakasih\n",
      "Responsif dan delivery cepat. Kondisi barang bagus.\n",
      "Lucukkkkkk, bagusssss next order di sini lg untuk alat2 tulis nya\n",
      "Bagus\n",
      "cepet bgt pengemasannya. cuma beli gini doang tp aman bgt dikasih dus. thanks seller ☺☺\n",
      "isi pensil nya patah\n",
      "Bagus\n",
      "bgusss bangett\n",
      "puas banget belanja di toko ini. packagingnya aman dan pengirimannya cepat👍\n",
      "Sesuai pesanan pelayanan bagus cepat sekali sehari sampe tq\n",
      "sudah diterima dng kondisi amat sangat baik. sesuai jg sama pesanan. thanks ya..\n",
      "suka banget . keren.\n",
      "murah dan cepat,\n",
      " pokoknya puas beli di sini.\n",
      "Fully recommended.  Trims \n",
      "Recommended Seller and Fast Response..\n",
      "makasih bnyk gan :)\n",
      "Mantap. seller responsif bgt, sebelum dikirim difotokan dulu sesuai pesanan. recommended 👍🏻\n",
      "HITEC MMG MANTAB JIWAAA\n",
      "Produk sampai dengan aman dan sempurna\n",
      "\n",
      "Packing sangat bagus, terima kasih\n",
      "Barang sesuai. Kualitas bagus. Pengiriman cepat\n",
      "baguss gaada cacat samsek sampai dengan baik\n",
      "Barang tiba dgn selamat, packing lapis 3 (karton - plastik - kardus), barang berfungsi dgn baik :) \n",
      "recommended bgt buat beli stationery disini🥺\n",
      "Barang sesuai. Terima kasih\n",
      "order banyak, 20+ jenis item, seller lgsg proses kirim cepat sekali, ada varian item kosong konfirmasi via chat dulu sblm dikirim. Terima kasih ya\n",
      "Respon Seller Oke\n",
      "Produk Oke\n",
      "Harga Produk Oke\n",
      "Pengiriman Oke\n",
      "Next kalo perlu lagi bisa jadi langganan\n",
      "nyaman dipakai utk menggambar 👍 bisa ditumpuki warna yg lebih gelap\n",
      "respon cepat pengiriman cepat packing baik aman sampai tujuan sesuai dengan yg dipesan terima kasih\n",
      "mantap semuanya, terima kasih kak\n",
      "kualitas barang baik, packaging sangat aman dan rapi, keseluruhan barang sangat baik\n",
      "bagus, enak banget buat nulis\n",
      "mau beli lagi lahhh 😅😅\n",
      "barang bagus, sesuai deskripsi\n",
      "Barang oke, packing aman, respon cepat. 🔥\n",
      "pelayanan memuaskan, barang bagus\n",
      "terima kasih Yaa Gan\n",
      "barang ori bagus..\n",
      "• packing cepet + seller nya confirm dulu sebelum kirim ❤️\n",
      "• pdhl beda provinsi, tapi 1hari sampai!\n",
      "• barang aman dan utuh\n",
      "• harga okkk\n",
      "Thank you ya, seller!\n",
      "Fix langgana... \n",
      "Kualitas barang bagus, packing aman..\n",
      "terimakasih seller dan toped, anak saya suka\n",
      "udah langganan bagus pkoknya\n",
      "pesanan terkirim tepat waktu\n",
      "pakenya di kemas aman sekali pakai kardus dan bubble wrap, di prosesnya cepet bangett, penjualnya juga ramah\n",
      "Kualitas CS luar biasa! Seller selalu chat konfirmasi item pesanan sebelum melakukan kiriman. Hari libur tetap bisa dikirim instan, dan pemrosesan pesanan kurang dari 15... \n",
      "Biar bintang yang bicara.\n",
      "Mantap, seller sangat komunikatif dan melakukan konfirmasi item-item pemesanan sebelum barang dikirim. Pengemasan rapi dan barang datang dalam kondisi bagus. Makasih!\n",
      "terimakasih layanan bagus\n",
      "warna nya cantik, sesuai deskripsi 😊👍🏻\n",
      "Barang cepet sampai dan sesuai dengan gambar, toko fast respon, terimakasih\n",
      "Responsif dan delivery cepat. Kondisi barang bagus.\n",
      "Lucukkkkkk, bagusssss next order di sini lg untuk alat2 tulis nya\n",
      "Bagus\n",
      "cepet bgt pengemasannya. cuma beli gini doang tp aman bgt dikasih dus. thanks seller ☺☺\n",
      "isi pensil nya patah\n",
      "Bagus\n",
      "bgusss bangett\n",
      "puas banget belanja di toko ini. packagingnya aman dan pengirimannya cepat👍\n",
      "Sesuai pesanan pelayanan bagus cepat sekali sehari sampe tq\n",
      "sudah diterima dng kondisi amat sangat baik. sesuai jg sama pesanan. thanks ya..\n",
      "suka banget . keren.\n",
      "murah dan cepat,\n",
      " pokoknya puas beli di sini.\n",
      "Fully recommended.  Trims \n",
      "Recommended Seller and Fast Response..\n",
      "makasih bnyk gan :)\n",
      "Mantap. seller responsif bgt, sebelum dikirim difotokan dulu sesuai pesanan. recommended 👍🏻\n",
      "HITEC MMG MANTAB JIWAAA\n",
      "Produk sampai dengan aman dan sempurna\n",
      "\n",
      "Packing sangat bagus, terima kasih\n",
      "Barang sesuai. Kualitas bagus. Pengiriman cepat\n",
      "baguss gaada cacat samsek sampai dengan baik\n",
      "Barang tiba dgn selamat, packing lapis 3 (karton - plastik - kardus), barang berfungsi dgn baik :) \n",
      "recommended bgt buat beli stationery disini🥺\n",
      "Barang sesuai. Terima kasih\n",
      "order banyak, 20+ jenis item, seller lgsg proses kirim cepat sekali, ada varian item kosong konfirmasi via chat dulu sblm dikirim. Terima kasih ya\n",
      "Respon Seller Oke\n",
      "Produk Oke\n",
      "Harga Produk Oke\n",
      "Pengiriman Oke\n",
      "Next kalo perlu lagi bisa jadi langganan\n",
      "nyaman dipakai utk menggambar 👍 bisa ditumpuki warna yg lebih gelap\n",
      "respon cepat pengiriman cepat packing baik aman sampai tujuan sesuai dengan yg dipesan terima kasih\n",
      "mantap semuanya, terima kasih kak\n",
      "kualitas barang baik, packaging sangat aman dan rapi, keseluruhan barang sangat baik\n",
      "bagus, enak banget buat nulis\n",
      "mau beli lagi lahhh 😅😅\n",
      "barang bagus, sesuai deskripsi\n",
      "Barang oke, packing aman, respon cepat. 🔥\n",
      "pelayanan memuaskan, barang bagus\n",
      "terima kasih Yaa Gan\n",
      "barang ori bagus..\n",
      "• packing cepet + seller nya confirm dulu sebelum kirim ❤️\n",
      "• pdhl beda provinsi, tapi 1hari sampai!\n",
      "• barang aman dan utuh\n",
      "• harga okkk\n",
      "Thank you ya, seller!\n",
      "Fix langgana... \n",
      "Kualitas barang bagus, packing aman..\n",
      "terimakasih seller dan toped, anak saya suka\n",
      "udah langganan bagus pkoknya\n",
      "pesanan terkirim tepat waktu\n",
      "pakenya di kemas aman sekali pakai kardus dan bubble wrap, di prosesnya cepet bangett, penjualnya juga ramah\n",
      "Kualitas CS luar biasa! Seller selalu chat konfirmasi item pesanan sebelum melakukan kiriman. Hari libur tetap bisa dikirim instan, dan pemrosesan pesanan kurang dari 15... \n",
      "Biar bintang yang bicara.\n",
      "Mantap, seller sangat komunikatif dan melakukan konfirmasi item-item pemesanan sebelum barang dikirim. Pengemasan rapi dan barang datang dalam kondisi bagus. Makasih!\n",
      "terimakasih layanan bagus\n",
      "warna nya cantik, sesuai deskripsi 😊👍🏻\n",
      "Barang cepet sampai dan sesuai dengan gambar, toko fast respon, terimakasih\n",
      "Responsif dan delivery cepat. Kondisi barang bagus.\n",
      "Lucukkkkkk, bagusssss next order di sini lg untuk alat2 tulis nya\n",
      "Bagus\n",
      "cepet bgt pengemasannya. cuma beli gini doang tp aman bgt dikasih dus. thanks seller ☺☺\n",
      "isi pensil nya patah\n",
      "Bagus\n",
      "bgusss bangett\n",
      "puas banget belanja di toko ini. packagingnya aman dan pengirimannya cepat👍\n",
      "Sesuai pesanan pelayanan bagus cepat sekali sehari sampe tq\n",
      "sudah diterima dng kondisi amat sangat baik. sesuai jg sama pesanan. thanks ya..\n",
      "suka banget . keren.\n",
      "murah dan cepat,\n",
      " pokoknya puas beli di sini.\n",
      "Fully recommended.  Trims \n",
      "Recommended Seller and Fast Response..\n",
      "makasih bnyk gan :)\n",
      "Mantap. seller responsif bgt, sebelum dikirim difotokan dulu sesuai pesanan. recommended 👍🏻\n",
      "HITEC MMG MANTAB JIWAAA\n",
      "Produk sampai dengan aman dan sempurna\n",
      "\n",
      "Packing sangat bagus, terima kasih\n",
      "Barang sesuai. Kualitas bagus. Pengiriman cepat\n",
      "baguss gaada cacat samsek sampai dengan baik\n",
      "Barang tiba dgn selamat, packing lapis 3 (karton - plastik - kardus), barang berfungsi dgn baik :) \n",
      "recommended bgt buat beli stationery disini🥺\n",
      "Barang sesuai. Terima kasih\n"
     ]
    }
   ],
   "source": [
    "for review in reviews:\n",
    "    print(review)"
   ]
  }
 ],
 "metadata": {
  "kernelspec": {
   "display_name": "Python 3",
   "language": "python",
   "name": "python3"
  },
  "language_info": {
   "codemirror_mode": {
    "name": "ipython",
    "version": 3
   },
   "file_extension": ".py",
   "mimetype": "text/x-python",
   "name": "python",
   "nbconvert_exporter": "python",
   "pygments_lexer": "ipython3",
   "version": "3.10.6"
  }
 },
 "nbformat": 4,
 "nbformat_minor": 2
}
