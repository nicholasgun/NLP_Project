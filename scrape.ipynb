{
 "cells": [
  {
   "cell_type": "code",
   "execution_count": 207,
   "metadata": {},
   "outputs": [],
   "source": [
    "import time\n",
    "from selenium import webdriver\n",
    "from bs4 import BeautifulSoup\n",
    "import pandas as pd\n",
    "from selenium.webdriver.support.ui import WebDriverWait\n",
    "from selenium.webdriver.common.by import By\n",
    "from selenium.webdriver.support import expected_conditions as EC\n",
    "import math"
   ]
  },
  {
   "cell_type": "code",
   "execution_count": 484,
   "metadata": {},
   "outputs": [],
   "source": [
    "# product_link = 'https://www.tokopedia.com/leedoo/leedoo-sepatu-sneakers-pria-sepatu-olahraga-lari-cowok-sekolah-ee01-hitam-39-ad560'\n",
    "# product_link = 'https://www.tokopedia.com/polytron-id/polytron-cinemax-digital-led-tv-32-pld-32tv1855'\n",
    "# product_link = 'https://www.tokopedia.com/pinzyofficial/headset-bluetooth-tws-f9-5-led-smart-display-with-powerbank-x15-pro'\n",
    "# product_link = 'https://www.tokopedia.com/xlprioritas/baru-esim-xl-prioritas-silver-unlimited-fup-30gb-bln-1-bulan'\n",
    "\n"
   ]
  },
  {
   "cell_type": "markdown",
   "metadata": {},
   "source": [
    "## Open Product Page"
   ]
  },
  {
   "cell_type": "code",
   "execution_count": 485,
   "metadata": {},
   "outputs": [],
   "source": [
    "driver = webdriver.Chrome()\n",
    "driver.get(product_link)"
   ]
  },
  {
   "cell_type": "code",
   "execution_count": 486,
   "metadata": {},
   "outputs": [],
   "source": [
    "time.sleep(5)\n",
    "soup = BeautifulSoup(driver.page_source, 'html.parser')"
   ]
  },
  {
   "cell_type": "markdown",
   "metadata": {},
   "source": [
    "## Open Product's View Reviews Page"
   ]
  },
  {
   "cell_type": "code",
   "execution_count": 487,
   "metadata": {},
   "outputs": [
    {
     "name": "stdout",
     "output_type": "stream",
     "text": [
      "[<a class=\"all-review css-1wt74j6-unf-link e1u528jj0\" data-testid=\"btnViewAllFeedback\" data-unify=\"Link\" font-size=\"14\" href=\"/xlprioritas/baru-esim-xl-prioritas-silver-unlimited-fup-30gb-bln-1-bulan/review\">Lihat Semua Ulasan</a>]\n"
     ]
    }
   ],
   "source": [
    "all_review = soup.find_all('a', attrs={'data-testid' : 'btnViewAllFeedback'})\n",
    "print(all_review)"
   ]
  },
  {
   "cell_type": "code",
   "execution_count": 488,
   "metadata": {},
   "outputs": [],
   "source": [
    "link_all_review = all_review[0]['href']\n",
    "link_all_review = 'https://www.tokopedia.com' + link_all_review"
   ]
  },
  {
   "cell_type": "code",
   "execution_count": 489,
   "metadata": {},
   "outputs": [],
   "source": [
    "driver.get(link_all_review)\n",
    "time.sleep(5)\n",
    "soup = BeautifulSoup(driver.page_source, 'html.parser')"
   ]
  },
  {
   "cell_type": "code",
   "execution_count": 490,
   "metadata": {},
   "outputs": [],
   "source": [
    "reviews = []"
   ]
  },
  {
   "cell_type": "markdown",
   "metadata": {},
   "source": [
    "## Get Num Of Pages"
   ]
  },
  {
   "cell_type": "code",
   "execution_count": 491,
   "metadata": {},
   "outputs": [],
   "source": [
    "# num_of_reviews = soup.find('div', attrs={'class' : 'css-124sv7s'}).find('p', 'css-1bhobcm-unf-heading e1qvo2ff8').text.split(' ')[0]\n",
    "\n",
    "# print(num)\n",
    "# for review in num_of_reviews :\n",
    "#     reviews.append(review.text)\n",
    "\n",
    "total_pages = soup.find_all('button', attrs={'class' : 'css-bugrro-unf-pagination-item'})\n",
    "num_page = 0\n",
    "\n",
    "for page in total_pages :\n",
    "    if not page.text.isdigit() :\n",
    "        continue\n",
    "\n",
    "    if int(page.text) > num_page :\n",
    "        num_page = int(page.text)"
   ]
  },
  {
   "cell_type": "code",
   "execution_count": 492,
   "metadata": {},
   "outputs": [
    {
     "name": "stdout",
     "output_type": "stream",
     "text": [
      "total pages : 7\n"
     ]
    }
   ],
   "source": [
    "print(f'total pages : {num_page}')"
   ]
  },
  {
   "cell_type": "markdown",
   "metadata": {},
   "source": [
    "## Get the Reviews"
   ]
  },
  {
   "cell_type": "code",
   "execution_count": 493,
   "metadata": {},
   "outputs": [],
   "source": [
    "toped_reviews = soup.find_all('article', attrs={'class' : 'css-72zbc4'})\n",
    "# print(toped_reviews[0].find('span', attrs={'data-testid' : 'lblItemUlasan'}))"
   ]
  },
  {
   "cell_type": "code",
   "execution_count": 494,
   "metadata": {},
   "outputs": [
    {
     "name": "stdout",
     "output_type": "stream",
     "text": [
      "7\n"
     ]
    }
   ],
   "source": [
    "print(num_page)"
   ]
  },
  {
   "cell_type": "code",
   "execution_count": 495,
   "metadata": {},
   "outputs": [
    {
     "name": "stdout",
     "output_type": "stream",
     "text": [
      "No more next page\n"
     ]
    }
   ],
   "source": [
    "for i in range (min(10, num_page)):\n",
    "    soup = BeautifulSoup(driver.page_source, 'html.parser')\n",
    "    toped_reviews = soup.find_all('article', attrs={'class' : 'css-72zbc4'})\n",
    "    for review in toped_reviews:\n",
    "        text_review = review.find('span', attrs={'data-testid' : 'lblItemUlasan'}) if not None else \"None\"\n",
    "        kendala = review.find(\"p\", attrs={\"class\" : \"css-zhjnk4-unf-heading e1qvo2ff8\"}) if not None else \"None\"\n",
    "        if text_review is not None : \n",
    "            text_review = review.find('span', attrs={'data-testid' : 'lblItemUlasan'}).text\n",
    "            rating = review.find('div', attrs={'data-testid' : 'icnStarRating'})['aria-label']\n",
    "            rating = rating.removeprefix('bintang ')\n",
    "            reviews.append([text_review, rating])\n",
    "        elif kendala is not None: \n",
    "            text_review = review.find('p', attrs={'class' : 'css-zhjnk4-unf-heading e1qvo2ff8'}).text[9:]\n",
    "            rating = review.find('div', attrs={'data-testid' : 'icnStarRating'})['aria-label']\n",
    "            rating = rating.removeprefix('bintang ')\n",
    "            reviews.append([text_review, rating])\n",
    "    # click next page  \n",
    "    try :\n",
    "        # driver.find_element(By.)\n",
    "        driver.find_element(By.CSS_SELECTOR, 'button[aria-label=\"Laman berikutnya\"]').click()\n",
    "    except :\n",
    "        print('No more next page')\n",
    "        break\n",
    "\n",
    "    time.sleep(5)\n",
    "# print(j)"
   ]
  },
  {
   "cell_type": "code",
   "execution_count": 496,
   "metadata": {},
   "outputs": [
    {
     "name": "stdout",
     "output_type": "stream",
     "text": [
      "Jumlah review : 65\n"
     ]
    }
   ],
   "source": [
    "print(f'Jumlah review : {len(reviews)}')"
   ]
  },
  {
   "cell_type": "code",
   "execution_count": 497,
   "metadata": {},
   "outputs": [],
   "source": [
    "review_df = pd.DataFrame(reviews, columns=['review', 'rating'])\n",
    "review_df.sort_values(by='rating', ascending=True, inplace=True)"
   ]
  },
  {
   "cell_type": "code",
   "execution_count": 498,
   "metadata": {},
   "outputs": [],
   "source": [
    "# export to csv\n",
    "review_df.to_csv('review_esim.csv', index=False)"
   ]
  },
  {
   "cell_type": "code",
   "execution_count": 482,
   "metadata": {},
   "outputs": [],
   "source": [
    "# for review in reviews:\n",
    "#     print(review)"
   ]
  },
  {
   "cell_type": "code",
   "execution_count": 483,
   "metadata": {},
   "outputs": [],
   "source": [
    "# review_df"
   ]
  }
 ],
 "metadata": {
  "kernelspec": {
   "display_name": "Python 3",
   "language": "python",
   "name": "python3"
  },
  "language_info": {
   "codemirror_mode": {
    "name": "ipython",
    "version": 3
   },
   "file_extension": ".py",
   "mimetype": "text/x-python",
   "name": "python",
   "nbconvert_exporter": "python",
   "pygments_lexer": "ipython3",
   "version": "3.9.6"
  }
 },
 "nbformat": 4,
 "nbformat_minor": 2
}
